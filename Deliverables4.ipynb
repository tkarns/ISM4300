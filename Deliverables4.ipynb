{
  "nbformat": 4,
  "nbformat_minor": 0,
  "metadata": {
    "colab": {
      "provenance": []
    },
    "kernelspec": {
      "name": "python3",
      "display_name": "Python 3"
    },
    "language_info": {
      "name": "python"
    }
  },
  "cells": [
    {
      "cell_type": "code",
      "source": [
        "import random\n",
        "\n",
        "def populate_list(length):\n",
        "    return [random.randint(10, 50) for _ in range(length)]\n",
        "\n",
        "def calculate_sum(numbers):\n",
        "    return sum(numbers)\n",
        "\n",
        "if __name__ == \"__main__\":\n",
        "    list_length = int(input(\"Enter the length of the list: \"))\n",
        "    random_list = populate_list(list_length)\n",
        "    print(\"Randomly populated list:\", random_list)\n",
        "\n",
        "    user_number = int(input(\"Enter an integer between 5 and 15: \"))\n",
        "    if 5 <= user_number <= 15:\n",
        "        print(\"User entered number:\", user_number)\n",
        "    else:\n",
        "        print(\"Invalid input. Please enter an integer between 5 and 15.\")\n",
        "\n",
        "    print(\"All elements in the list:\")\n",
        "    for element in random_list:\n",
        "        print(element)\n",
        "\n",
        "    list_sum = calculate_sum(random_list)\n",
        "    print(\"Sum of all elements in the list:\", list_sum)\n"
      ],
      "metadata": {
        "colab": {
          "base_uri": "https://localhost:8080/"
        },
        "id": "k_r9O_I2m7i2",
        "outputId": "c2f49dfa-0389-4c8c-dca8-1764602c18d6"
      },
      "execution_count": 6,
      "outputs": [
        {
          "output_type": "stream",
          "name": "stdout",
          "text": [
            "Enter the length of the list: 50\n",
            "Randomly populated list: [31, 26, 12, 15, 47, 34, 42, 23, 22, 46, 37, 38, 40, 22, 10, 22, 11, 28, 34, 20, 19, 17, 17, 49, 40, 19, 16, 32, 11, 34, 20, 39, 45, 40, 18, 23, 29, 37, 32, 30, 40, 50, 25, 39, 49, 32, 13, 40, 38, 18]\n",
            "Enter an integer between 5 and 15: 15\n",
            "User entered number: 15\n",
            "All elements in the list:\n",
            "31\n",
            "26\n",
            "12\n",
            "15\n",
            "47\n",
            "34\n",
            "42\n",
            "23\n",
            "22\n",
            "46\n",
            "37\n",
            "38\n",
            "40\n",
            "22\n",
            "10\n",
            "22\n",
            "11\n",
            "28\n",
            "34\n",
            "20\n",
            "19\n",
            "17\n",
            "17\n",
            "49\n",
            "40\n",
            "19\n",
            "16\n",
            "32\n",
            "11\n",
            "34\n",
            "20\n",
            "39\n",
            "45\n",
            "40\n",
            "18\n",
            "23\n",
            "29\n",
            "37\n",
            "32\n",
            "30\n",
            "40\n",
            "50\n",
            "25\n",
            "39\n",
            "49\n",
            "32\n",
            "13\n",
            "40\n",
            "38\n",
            "18\n",
            "Sum of all elements in the list: 1471\n"
          ]
        }
      ]
    }
  ]
}
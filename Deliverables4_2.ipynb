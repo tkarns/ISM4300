{
  "nbformat": 4,
  "nbformat_minor": 0,
  "metadata": {
    "colab": {
      "provenance": []
    },
    "kernelspec": {
      "name": "python3",
      "display_name": "Python 3"
    },
    "language_info": {
      "name": "python"
    }
  },
  "cells": [
    {
      "cell_type": "code",
      "source": [
        "import random\n",
        "\n",
        "def populate_list(length):\n",
        "    return [random.randint(10, 50) for _ in range(length)]\n",
        "\n",
        "def calculate_sum(numbers):\n",
        "    return sum(numbers)\n",
        "\n",
        "if __name__ == \"__main__\":\n",
        "    list_length = int(input(\"Enter the length of the list: \"))\n",
        "    random_list = populate_list(list_length)\n",
        "    print(\"Randomly populated list:\", random_list)\n",
        "\n",
        "    user_number = int(input(\"Enter an integer between 5 and 15: \"))\n",
        "    if 5 <= user_number <= 15:\n",
        "        print(\"User entered number:\", user_number)\n",
        "    else:\n",
        "        print(\"Invalid input. Please enter an integer between 5 and 15.\")\n",
        "\n",
        "    print(\"All elements in the list:\")\n",
        "    for element in random_list:\n",
        "        print(element)\n",
        "\n",
        "    list_sum = calculate_sum(random_list)\n",
        "    print(\"Sum of all elements in the list:\", list_sum)\n"
      ],
      "metadata": {
        "colab": {
          "base_uri": "https://localhost:8080/"
        },
        "id": "k_r9O_I2m7i2",
        "outputId": "7e714912-c465-4271-f250-1de1595dd0d7"
      },
      "execution_count": 7,
      "outputs": [
        {
          "output_type": "stream",
          "name": "stdout",
          "text": [
            "Enter the length of the list: 4\n",
            "Randomly populated list: [13, 49, 32, 33]\n",
            "Enter an integer between 5 and 15: 70\n",
            "Invalid input. Please enter an integer between 5 and 15.\n",
            "All elements in the list:\n",
            "13\n",
            "49\n",
            "32\n",
            "33\n",
            "Sum of all elements in the list: 127\n"
          ]
        }
      ]
    }
  ]
}